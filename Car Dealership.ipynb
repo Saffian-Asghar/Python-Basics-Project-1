{
 "cells": [
  {
   "cell_type": "code",
   "execution_count": 63,
   "id": "cfada8ad",
   "metadata": {},
   "outputs": [],
   "source": [
    "import pandas as pd"
   ]
  },
  {
   "cell_type": "code",
   "execution_count": 64,
   "id": "d3c5bd45",
   "metadata": {},
   "outputs": [],
   "source": [
    "def display_dealership_info(dealerships):\n",
    "    data = []\n",
    "    for i in dealerships:\n",
    "        data.append(i.get_data_cleaned())\n",
    "    data_frame = pd.DataFrame(data)\n",
    "    return data_frame"
   ]
  },
  {
   "cell_type": "code",
   "execution_count": 100,
   "id": "abb08912",
   "metadata": {},
   "outputs": [],
   "source": [
    "def display_cars(dealership):\n",
    "    data = []\n",
    "    for i in dealership.cars:\n",
    "        data.append(i.get_data_cleaned())\n",
    "    data_frame = pd.DataFrame(data)\n",
    "    index = data_frame.index\n",
    "    index.name = dealership.name\n",
    "    return data_frame"
   ]
  },
  {
   "cell_type": "code",
   "execution_count": 88,
   "id": "bbdc9b6c",
   "metadata": {},
   "outputs": [],
   "source": [
    "# The idea is that I have multiple car dealerships and I sell different cars (I love v8s!)\n",
    "# The entities will be DEALEARSHIP (Name, Address, Cars (this will be a seperate class), and the daily sale)\n",
    "# And the CAR class will simply have Brand, Name of model, Year of make, and the Price\n",
    "#\n",
    "\n",
    "# Firstly the CAR Class; The input string is of the format (\"Lamborghini;Huracan;2016;236_000\")\n",
    "# Can't have the data featuring in these class since its a pretty simple class. I'll include that in the Dealership class\n",
    "class Car:\n",
    "    def __init__(self):\n",
    "        self.make = \"\"\n",
    "        self.model = \"\"\n",
    "        self.year = None\n",
    "        self.price = 0\n",
    "    def data_extraction(self, form):\n",
    "        self.make = form.split(\";\")[0]\n",
    "        self.model = form.split(\";\")[1]\n",
    "        self.year = form.split(\";\")[2]\n",
    "        self.price = float(form.split(\";\")[3])\n",
    "    def get_data_cleaned(self):\n",
    "        return {\"Make\": self.make, \"Model\": self.model, \"Year\": self.year, \"Price\": self.price}\n",
    "    \n",
    "    def set_price(self, price):\n",
    "        self.price = price\n",
    "\n",
    "# Dealearship Class\n",
    "class Dealership:\n",
    "    def __init__(self):\n",
    "        self.name = \"\"\n",
    "        self.cars = []\n",
    "        self.capacity = 0\n",
    "        self.address = \"\"\n",
    "        self.daily_sale = 0\n",
    "        self.postcode = \"\"\n",
    "    # form format is (\"AutoShop27; 10 bis Rue Charles V Paris 75004; 33 (this number denotes the max capacity \n",
    "    # of cars that can be accomodated)\")\n",
    "    def data_extraction(self, form):\n",
    "        self.name = form.split(\";\")[0]\n",
    "        self.address = form.split(\";\")[1]\n",
    "        self.capacity = int(form.split(\";\")[2])\n",
    "    def get_data_cleaned(self):\n",
    "        return {\n",
    "            \"Dealership Name\" : self.name,\n",
    "            \"Address\" : self.address,\n",
    "            \"Capacity left\" : self.capacity - len(self.cars),\n",
    "            \"Cars\" : len(self.cars),\n",
    "            \"Sale Today\" : self.daily_sale\n",
    "        }\n",
    "    def data_feature():\n",
    "        self.postcode = self.address.split()[-1]\n",
    "    def set_name(name):\n",
    "        self.name = name\n",
    "    def set_capacity(capacity): # Since we might scale up sometime, maybe get the building next to it\n",
    "        self.capacity = capacity\n",
    "    \n",
    "    \n",
    "    # Now business actions\n",
    "    # selling a car\n",
    "    def sell_car(self,required_car):\n",
    "        #initializing a dummy boolean to false to find if the car is actually available in the dealership\n",
    "        car_available = False\n",
    "        for car in self.cars:\n",
    "            # Since we cant compare objects directly, we will have to go by name and other attributes. \n",
    "            # I would prefer a primary key in a real life scenario but that requires a database and a reference to the product\n",
    "            if(car.make == required_car.make and car.model == required_car.model and car.year == required_car.year and car.price == required_car.price):\n",
    "                car_available = True\n",
    "                self.daily_sale = self.daily_sale + car.price\n",
    "                self.cars.remove(car)\n",
    "                \n",
    "        if(car_available == False):\n",
    "            print(\"Car is not availabe at \" + self.name)\n",
    "        else:\n",
    "            print(\"Car Sold!\")\n",
    "    # increasing inventory    \n",
    "    def store_car(self,car):\n",
    "        if(len(self.cars) < self.capacity):\n",
    "            self.cars.append(car)\n",
    "            print(car.model + \" stocked at \" + self.name)\n",
    "        else:\n",
    "            print(self.name + \" dealership capacity reached!\")\n",
    "    \n",
    "    \n",
    "        "
   ]
  },
  {
   "cell_type": "code",
   "execution_count": 89,
   "id": "5454bce6",
   "metadata": {},
   "outputs": [],
   "source": [
    "# Testing \n",
    "autoscout24 = Dealership()\n",
    "autoscout24.data_extraction(\"AutoScout24; 10 bis Rue Charles V Paris 75004; 5\")\n",
    "topgear = Dealership()\n",
    "topgear.data_extraction(\"Top Gear; 08 Impasse Marceau Argenteuil 95100; 4\")\n",
    "superwheels = Dealership()\n",
    "superwheels.data_extraction(\"Super Wheels; 06 Rue de Romero Argenteuil 95100; 3\")\n",
    "\n",
    "dealerships = [autoscout24,topgear,superwheels]"
   ]
  },
  {
   "cell_type": "code",
   "execution_count": 90,
   "id": "aac37eff",
   "metadata": {},
   "outputs": [],
   "source": [
    "# Fun part, the cars\n",
    "# lets build up our inventory first\n",
    "cars = []\n",
    "cars.append(Car())\n",
    "cars[0].data_extraction(\"Lamborghini;Huracan;2016;236_000\")\n",
    "cars.append(Car())\n",
    "cars[1].data_extraction(\"Porsche;Cayenne;2020;143_000\")\n",
    "cars.append(Car())\n",
    "cars[2].data_extraction(\"Mercedez-Benz;C63;2022;95_000\")\n",
    "cars.append(Car())\n",
    "cars[3].data_extraction(\"Lamborghini;Aventador;2019;343_000\")\n",
    "cars.append(Car())\n",
    "cars[4].data_extraction(\"Ferrari;458 Italia;2018;249_000\")\n",
    "cars.append(Car())\n",
    "cars[5].data_extraction(\"Ford;Mustang;2019;48_000\")\n",
    "cars.append(Car())\n",
    "cars[6].data_extraction(\"Ferrari;La Ferrari;2018;1_236_000\")\n",
    "cars.append(Car())\n",
    "cars[7].data_extraction(\"Lamborghini;Gallardo;2010;330_000\")\n",
    "cars.append(Car())\n",
    "cars[8].data_extraction(\"Koenigsegg;CCX;2016;1_336_000\")\n",
    "cars.append(Car())\n",
    "cars[9].data_extraction(\"Koenigsegg;Agera;2020;1_005_000\")\n",
    "cars.append(Car())\n",
    "cars[10].data_extraction(\"Toyota;Supra;2002;58_000\")\n",
    "cars.append(Car())\n",
    "cars[11].data_extraction(\"Renault;Clio;2022;21_000\") # :)\n"
   ]
  },
  {
   "cell_type": "code",
   "execution_count": 91,
   "id": "de4c4035",
   "metadata": {},
   "outputs": [
    {
     "name": "stdout",
     "output_type": "stream",
     "text": [
      "Huracan stocked at AutoScout24\n",
      "Huracan stocked at Top Gear\n",
      "Huracan stocked at Super Wheels\n",
      "Cayenne stocked at AutoScout24\n",
      "Cayenne stocked at Top Gear\n",
      "Cayenne stocked at Super Wheels\n",
      "C63 stocked at AutoScout24\n",
      "C63 stocked at Top Gear\n",
      "C63 stocked at Super Wheels\n",
      "Aventador stocked at AutoScout24\n",
      "Aventador stocked at Top Gear\n",
      "Super Wheels dealership capacity reached!\n",
      "458 Italia stocked at AutoScout24\n",
      "Top Gear dealership capacity reached!\n",
      "Super Wheels dealership capacity reached!\n",
      "AutoScout24 dealership capacity reached!\n",
      "Top Gear dealership capacity reached!\n",
      "Super Wheels dealership capacity reached!\n",
      "AutoScout24 dealership capacity reached!\n",
      "Top Gear dealership capacity reached!\n",
      "Super Wheels dealership capacity reached!\n",
      "AutoScout24 dealership capacity reached!\n",
      "Top Gear dealership capacity reached!\n",
      "Super Wheels dealership capacity reached!\n",
      "AutoScout24 dealership capacity reached!\n",
      "Top Gear dealership capacity reached!\n",
      "Super Wheels dealership capacity reached!\n",
      "AutoScout24 dealership capacity reached!\n",
      "Top Gear dealership capacity reached!\n",
      "Super Wheels dealership capacity reached!\n",
      "AutoScout24 dealership capacity reached!\n",
      "Top Gear dealership capacity reached!\n",
      "Super Wheels dealership capacity reached!\n",
      "AutoScout24 dealership capacity reached!\n",
      "Top Gear dealership capacity reached!\n",
      "Super Wheels dealership capacity reached!\n"
     ]
    }
   ],
   "source": [
    "for car in cars:\n",
    "    for dealership in dealerships:\n",
    "        car_stored = dealership.store_car(car)\n",
    "        if(car_stored == True):\n",
    "            break"
   ]
  },
  {
   "cell_type": "code",
   "execution_count": 92,
   "id": "55fb132a",
   "metadata": {},
   "outputs": [
    {
     "data": {
      "text/plain": [
       "{'Dealership Name': 'AutoScout24',\n",
       " 'Address': ' 10 bis Rue Charles V Paris 75004',\n",
       " 'Capacity left': 0,\n",
       " 'Cars': 5,\n",
       " 'Sale Today': 0}"
      ]
     },
     "execution_count": 92,
     "metadata": {},
     "output_type": "execute_result"
    }
   ],
   "source": [
    "dealerships[0].get_data_cleaned()"
   ]
  },
  {
   "cell_type": "code",
   "execution_count": 101,
   "id": "b129226f",
   "metadata": {},
   "outputs": [
    {
     "data": {
      "text/html": [
       "<div>\n",
       "<style scoped>\n",
       "    .dataframe tbody tr th:only-of-type {\n",
       "        vertical-align: middle;\n",
       "    }\n",
       "\n",
       "    .dataframe tbody tr th {\n",
       "        vertical-align: top;\n",
       "    }\n",
       "\n",
       "    .dataframe thead th {\n",
       "        text-align: right;\n",
       "    }\n",
       "</style>\n",
       "<table border=\"1\" class=\"dataframe\">\n",
       "  <thead>\n",
       "    <tr style=\"text-align: right;\">\n",
       "      <th></th>\n",
       "      <th>Make</th>\n",
       "      <th>Model</th>\n",
       "      <th>Year</th>\n",
       "      <th>Price</th>\n",
       "    </tr>\n",
       "    <tr>\n",
       "      <th>AutoScout24</th>\n",
       "      <th></th>\n",
       "      <th></th>\n",
       "      <th></th>\n",
       "      <th></th>\n",
       "    </tr>\n",
       "  </thead>\n",
       "  <tbody>\n",
       "    <tr>\n",
       "      <th>0</th>\n",
       "      <td>Lamborghini</td>\n",
       "      <td>Huracan</td>\n",
       "      <td>2016</td>\n",
       "      <td>236000.0</td>\n",
       "    </tr>\n",
       "    <tr>\n",
       "      <th>1</th>\n",
       "      <td>Porsche</td>\n",
       "      <td>Cayenne</td>\n",
       "      <td>2020</td>\n",
       "      <td>143000.0</td>\n",
       "    </tr>\n",
       "    <tr>\n",
       "      <th>2</th>\n",
       "      <td>Mercedez-Benz</td>\n",
       "      <td>C63</td>\n",
       "      <td>2022</td>\n",
       "      <td>95000.0</td>\n",
       "    </tr>\n",
       "    <tr>\n",
       "      <th>3</th>\n",
       "      <td>Lamborghini</td>\n",
       "      <td>Aventador</td>\n",
       "      <td>2019</td>\n",
       "      <td>343000.0</td>\n",
       "    </tr>\n",
       "    <tr>\n",
       "      <th>4</th>\n",
       "      <td>Ferrari</td>\n",
       "      <td>458 Italia</td>\n",
       "      <td>2018</td>\n",
       "      <td>249000.0</td>\n",
       "    </tr>\n",
       "  </tbody>\n",
       "</table>\n",
       "</div>"
      ],
      "text/plain": [
       "                      Make       Model  Year     Price\n",
       "AutoScout24                                           \n",
       "0              Lamborghini     Huracan  2016  236000.0\n",
       "1                  Porsche     Cayenne  2020  143000.0\n",
       "2            Mercedez-Benz         C63  2022   95000.0\n",
       "3              Lamborghini   Aventador  2019  343000.0\n",
       "4                  Ferrari  458 Italia  2018  249000.0"
      ]
     },
     "execution_count": 101,
     "metadata": {},
     "output_type": "execute_result"
    }
   ],
   "source": [
    "display_cars(dealerships[0])\n"
   ]
  },
  {
   "cell_type": "code",
   "execution_count": 102,
   "id": "aa98f3f6",
   "metadata": {},
   "outputs": [
    {
     "name": "stdout",
     "output_type": "stream",
     "text": [
      "Car Sold!\n"
     ]
    }
   ],
   "source": [
    "sell_lambo = Car()\n",
    "sell_lambo.data_extraction(\"Lamborghini;Aventador;2019;343000\")\n",
    "dealerships[0].sell_car(sell_lambo)\n"
   ]
  },
  {
   "cell_type": "code",
   "execution_count": 104,
   "id": "fb40e23a",
   "metadata": {},
   "outputs": [
    {
     "data": {
      "text/html": [
       "<div>\n",
       "<style scoped>\n",
       "    .dataframe tbody tr th:only-of-type {\n",
       "        vertical-align: middle;\n",
       "    }\n",
       "\n",
       "    .dataframe tbody tr th {\n",
       "        vertical-align: top;\n",
       "    }\n",
       "\n",
       "    .dataframe thead th {\n",
       "        text-align: right;\n",
       "    }\n",
       "</style>\n",
       "<table border=\"1\" class=\"dataframe\">\n",
       "  <thead>\n",
       "    <tr style=\"text-align: right;\">\n",
       "      <th></th>\n",
       "      <th>Dealership Name</th>\n",
       "      <th>Address</th>\n",
       "      <th>Capacity left</th>\n",
       "      <th>Cars</th>\n",
       "      <th>Sale Today</th>\n",
       "    </tr>\n",
       "  </thead>\n",
       "  <tbody>\n",
       "    <tr>\n",
       "      <th>0</th>\n",
       "      <td>AutoScout24</td>\n",
       "      <td>10 bis Rue Charles V Paris 75004</td>\n",
       "      <td>1</td>\n",
       "      <td>4</td>\n",
       "      <td>343000.0</td>\n",
       "    </tr>\n",
       "    <tr>\n",
       "      <th>1</th>\n",
       "      <td>Top Gear</td>\n",
       "      <td>08 Impasse Marceau Argenteuil 95100</td>\n",
       "      <td>0</td>\n",
       "      <td>4</td>\n",
       "      <td>0.0</td>\n",
       "    </tr>\n",
       "    <tr>\n",
       "      <th>2</th>\n",
       "      <td>Super Wheels</td>\n",
       "      <td>06 Rue de Romero Argenteuil 95100</td>\n",
       "      <td>0</td>\n",
       "      <td>3</td>\n",
       "      <td>0.0</td>\n",
       "    </tr>\n",
       "  </tbody>\n",
       "</table>\n",
       "</div>"
      ],
      "text/plain": [
       "  Dealership Name                               Address  Capacity left  Cars  \\\n",
       "0     AutoScout24      10 bis Rue Charles V Paris 75004              1     4   \n",
       "1        Top Gear   08 Impasse Marceau Argenteuil 95100              0     4   \n",
       "2    Super Wheels     06 Rue de Romero Argenteuil 95100              0     3   \n",
       "\n",
       "   Sale Today  \n",
       "0    343000.0  \n",
       "1         0.0  \n",
       "2         0.0  "
      ]
     },
     "execution_count": 104,
     "metadata": {},
     "output_type": "execute_result"
    }
   ],
   "source": [
    "display_dealership_info(dealerships)"
   ]
  },
  {
   "cell_type": "code",
   "execution_count": 56,
   "id": "2ff14b50",
   "metadata": {},
   "outputs": [
    {
     "name": "stdout",
     "output_type": "stream",
     "text": [
      "No space left at this dealership to stock another car\n"
     ]
    }
   ],
   "source": [
    "add_bmw = Car()\n",
    "add_bmw.data_extraction(\"BMW;M3;2022;58000\")\n",
    "storing = dealerships[2].store_car(add_bmw)\n",
    "if storing == True:\n",
    "    print(\"Car successfully stocked\")\n",
    "else:\n",
    "    print(\"No space left at this dealership to stock another car\")"
   ]
  },
  {
   "cell_type": "code",
   "execution_count": null,
   "id": "577fcfae",
   "metadata": {},
   "outputs": [],
   "source": []
  }
 ],
 "metadata": {
  "kernelspec": {
   "display_name": "Python 3 (ipykernel)",
   "language": "python",
   "name": "python3"
  },
  "language_info": {
   "codemirror_mode": {
    "name": "ipython",
    "version": 3
   },
   "file_extension": ".py",
   "mimetype": "text/x-python",
   "name": "python",
   "nbconvert_exporter": "python",
   "pygments_lexer": "ipython3",
   "version": "3.10.7"
  }
 },
 "nbformat": 4,
 "nbformat_minor": 5
}
